{
 "cells": [
  {
   "cell_type": "code",
   "execution_count": 1,
   "id": "0614b0f2-5d00-40ce-84d5-43f23415dcc8",
   "metadata": {},
   "outputs": [
    {
     "name": "stdout",
     "output_type": "stream",
     "text": [
      "1\n",
      "2\n",
      "3\n",
      "4\n",
      "5\n",
      "6\n",
      "7\n",
      "8\n",
      "9\n",
      "10\n"
     ]
    }
   ],
   "source": [
    "#Program to print the all the numbers from 1 to 10 using for loop.\n",
    "\n",
    "for items in range(1,11):\n",
    "    print(items)"
   ]
  },
  {
   "cell_type": "code",
   "execution_count": 1,
   "id": "a2cdb0e0-a1e2-4aa2-9bed-308fa8099cc0",
   "metadata": {},
   "outputs": [
    {
     "name": "stdout",
     "output_type": "stream",
     "text": [
      "sum of all numbers 1\n",
      "sum of all numbers 3\n",
      "sum of all numbers 6\n",
      "sum of all numbers 10\n",
      "sum of all numbers 15\n",
      "sum of all numbers 21\n",
      "sum of all numbers 28\n",
      "sum of all numbers 36\n",
      "sum of all numbers 45\n",
      "sum of all numbers 55\n",
      "sum of all numbers 66\n",
      "sum of all numbers 78\n",
      "sum of all numbers 91\n",
      "sum of all numbers 105\n",
      "sum of all numbers 120\n",
      "sum of all numbers 136\n",
      "sum of all numbers 153\n",
      "sum of all numbers 171\n",
      "sum of all numbers 190\n",
      "sum of all numbers 210\n",
      "sum of all numbers 231\n",
      "sum of all numbers 253\n",
      "sum of all numbers 276\n",
      "sum of all numbers 300\n",
      "sum of all numbers 325\n",
      "sum of all numbers 351\n",
      "sum of all numbers 378\n",
      "sum of all numbers 406\n",
      "sum of all numbers 435\n",
      "sum of all numbers 465\n",
      "sum of all numbers 496\n",
      "sum of all numbers 528\n",
      "sum of all numbers 561\n",
      "sum of all numbers 595\n",
      "sum of all numbers 630\n",
      "sum of all numbers 666\n",
      "sum of all numbers 703\n",
      "sum of all numbers 741\n",
      "sum of all numbers 780\n",
      "sum of all numbers 820\n",
      "sum of all numbers 861\n",
      "sum of all numbers 903\n",
      "sum of all numbers 946\n",
      "sum of all numbers 990\n",
      "sum of all numbers 1035\n",
      "sum of all numbers 1081\n",
      "sum of all numbers 1128\n",
      "sum of all numbers 1176\n",
      "sum of all numbers 1225\n",
      "sum of all numbers 1275\n",
      "sum of all numbers 1326\n",
      "sum of all numbers 1378\n",
      "sum of all numbers 1431\n",
      "sum of all numbers 1485\n",
      "sum of all numbers 1540\n",
      "sum of all numbers 1596\n",
      "sum of all numbers 1653\n",
      "sum of all numbers 1711\n",
      "sum of all numbers 1770\n",
      "sum of all numbers 1830\n",
      "sum of all numbers 1891\n",
      "sum of all numbers 1953\n",
      "sum of all numbers 2016\n",
      "sum of all numbers 2080\n",
      "sum of all numbers 2145\n",
      "sum of all numbers 2211\n",
      "sum of all numbers 2278\n",
      "sum of all numbers 2346\n",
      "sum of all numbers 2415\n",
      "sum of all numbers 2485\n",
      "sum of all numbers 2556\n",
      "sum of all numbers 2628\n",
      "sum of all numbers 2701\n",
      "sum of all numbers 2775\n",
      "sum of all numbers 2850\n",
      "sum of all numbers 2926\n",
      "sum of all numbers 3003\n",
      "sum of all numbers 3081\n",
      "sum of all numbers 3160\n",
      "sum of all numbers 3240\n",
      "sum of all numbers 3321\n",
      "sum of all numbers 3403\n",
      "sum of all numbers 3486\n",
      "sum of all numbers 3570\n",
      "sum of all numbers 3655\n",
      "sum of all numbers 3741\n",
      "sum of all numbers 3828\n",
      "sum of all numbers 3916\n",
      "sum of all numbers 4005\n",
      "sum of all numbers 4095\n",
      "sum of all numbers 4186\n",
      "sum of all numbers 4278\n",
      "sum of all numbers 4371\n",
      "sum of all numbers 4465\n",
      "sum of all numbers 4560\n",
      "sum of all numbers 4656\n",
      "sum of all numbers 4753\n",
      "sum of all numbers 4851\n",
      "sum of all numbers 4950\n",
      "sum of all numbers 5050\n"
     ]
    }
   ],
   "source": [
    "#Program to find the sum of all numbers from 1 to 100 using for loop.\n",
    "sum = 0\n",
    "for item in range(1,101):\n",
    "    sum += item\n",
    "    print(\"sum of all numbers\",sum)"
   ]
  },
  {
   "cell_type": "code",
   "execution_count": 3,
   "id": "00a75965-6a3c-42ab-ad6a-9123dbbaf361",
   "metadata": {},
   "outputs": [
    {
     "name": "stdin",
     "output_type": "stream",
     "text": [
      "enter value 9\n"
     ]
    },
    {
     "name": "stdout",
     "output_type": "stream",
     "text": [
      "multiplication table:\n",
      "9 x 1 = 9\n",
      "9 x 2 = 18\n",
      "9 x 3 = 27\n",
      "9 x 4 = 36\n",
      "9 x 5 = 45\n",
      "9 x 6 = 54\n",
      "9 x 7 = 63\n",
      "9 x 8 = 72\n",
      "9 x 9 = 81\n",
      "9 x 10 = 90\n"
     ]
    }
   ],
   "source": [
    "#Program to print the multiplication table of given number using for loop.\n",
    "\n",
    "num =int(input(\"enter value\"))\n",
    "print(\"multiplication table:\")\n",
    "\n",
    "for i in range(1,11):\n",
    "    print(num,\"x\",i,\"=\",num*i)"
   ]
  },
  {
   "cell_type": "code",
   "execution_count": 3,
   "id": "aad9d3bb-8e1c-47d5-9abc-7041938ff08c",
   "metadata": {},
   "outputs": [
    {
     "name": "stdout",
     "output_type": "stream",
     "text": [
      "even no 7\n",
      "odd no 8\n"
     ]
    }
   ],
   "source": [
    "#Program to count the numbers of even and odd numbers from a series of numbers using a for loop.\n",
    "\n",
    "series = [1,2,3,4,5,6,7,8,9,10,11,12,13,14,15]\n",
    "count_even_no = 0\n",
    "count_odd_no = 0\n",
    "\n",
    "\n",
    "for item in series:\n",
    "    if item % 2 == 0:\n",
    "       count_even_no += 1\n",
    "    else:\n",
    "        count_odd_no += 1\n",
    "\n",
    "print(\"even no\",count_even_no)\n",
    "print(\"odd no\",count_odd_no)\n"
   ]
  },
  {
   "cell_type": "code",
   "execution_count": 5,
   "id": "c2bfe63b-a539-449e-962f-fdb1c73e7547",
   "metadata": {},
   "outputs": [
    {
     "name": "stdin",
     "output_type": "stream",
     "text": [
      "Enter number 5\n"
     ]
    },
    {
     "name": "stdout",
     "output_type": "stream",
     "text": [
      "factorial number 1\n",
      "factorial number 2\n",
      "factorial number 6\n",
      "factorial number 24\n",
      "factorial number 120\n"
     ]
    }
   ],
   "source": [
    "#Program to find the factorial of a number using for loop.\n",
    "\n",
    "number = int(input(\"Enter number\"))\n",
    "factorial = 1\n",
    "for items in range(1,number +1):\n",
    "    factorial *= items\n",
    "    print(\"factorial number\",factorial)\n",
    "    "
   ]
  },
  {
   "cell_type": "code",
   "execution_count": 15,
   "id": "7f40409c-734c-49f3-9dca-768e947c387b",
   "metadata": {},
   "outputs": [
    {
     "name": "stdin",
     "output_type": "stream",
     "text": [
      "specified number 10\n"
     ]
    },
    {
     "name": "stdout",
     "output_type": "stream",
     "text": [
      "0\n",
      "1\n",
      "1\n",
      "2\n",
      "3\n",
      "5\n",
      "8\n",
      "13\n",
      "21\n",
      "34\n"
     ]
    }
   ],
   "source": [
    "#Program to print the fibonacci sequence upto specified number using for loop.\n",
    "\n",
    "numbers = int(input(\"specified number\"))\n",
    "num1=0\n",
    "num2=1\n",
    "count=0\n",
    "\n",
    "while count < numbers:\n",
    "        print(num1)\n",
    "        total = num1 + num2\n",
    "\n",
    "        num1 = num2\n",
    "        num2 = total\n",
    "        count+=1\n"
   ]
  },
  {
   "cell_type": "code",
   "execution_count": 94,
   "id": "0551450d-d490-457a-a5ad-d4293e4a3022",
   "metadata": {},
   "outputs": [
    {
     "name": "stdin",
     "output_type": "stream",
     "text": [
      "Enter a number 30\n"
     ]
    },
    {
     "name": "stdout",
     "output_type": "stream",
     "text": [
      "It is not prime number 30\n"
     ]
    }
   ],
   "source": [
    "#Program to check if a given number is prime or not prime for using for loop.\n",
    "\n",
    "number = int(input(\"Enter a number\")) \n",
    "if number >1:\n",
    "  for items in range (2, number):\n",
    "       if number % items == 0:\n",
    "           print(\"It is not prime number\",number)\n",
    "           break\n",
    "  else:\n",
    "        print(\"It is prime number\",number)\n",
    "\n"
   ]
  },
  {
   "cell_type": "code",
   "execution_count": 39,
   "id": "4c5cbc06-7d8f-41bb-8e8f-ed8245252aff",
   "metadata": {},
   "outputs": [
    {
     "name": "stdout",
     "output_type": "stream",
     "text": [
      "largest element 40\n"
     ]
    }
   ],
   "source": [
    "#Program to find the largest element in list using for loop.\n",
    "\n",
    "element = [1,40,3,4,25,36,7,8,9,10]\n",
    "largest_element = element[0]\n",
    "for items in element:\n",
    "    if items > largest_element:\n",
    "        largest_element = items\n",
    "print(\"largest element\",largest_element)"
   ]
  },
  {
   "cell_type": "code",
   "execution_count": 43,
   "id": "ee0c4a5e-54c6-4c1f-97b2-ac73cd1ba6f7",
   "metadata": {},
   "outputs": [
    {
     "name": "stdout",
     "output_type": "stream",
     "text": [
      "reversed string is  nohtyp\n"
     ]
    }
   ],
   "source": [
    "#Program to reverse a given string using for loop.\n",
    "\n",
    "string = (\"python\")\n",
    "reversed_string = \"\"\n",
    "for char in string:\n",
    "    reversed_string = char + reversed_string\n",
    "print(\"reversed string is \",reversed_string)"
   ]
  },
  {
   "cell_type": "code",
   "execution_count": 53,
   "id": "2f853878-6106-4d63-a864-04cf67c163b2",
   "metadata": {},
   "outputs": [
    {
     "name": "stdout",
     "output_type": "stream",
     "text": [
      "element common in both are [1]\n"
     ]
    }
   ],
   "source": [
    "#program to find common element between 2 list using for loop.\n",
    "\n",
    "list1 = [1,2,3]\n",
    "list2 = [4,5,1]\n",
    "common_element=[]\n",
    "for element in list1:\n",
    "   if element in list2:\n",
    "\n",
    "    common_element.append(element)\n",
    "print(\"element common in both are\",common_element)\n",
    "\n"
   ]
  },
  {
   "cell_type": "code",
   "execution_count": null,
   "id": "c1184a78-b314-48a0-82b0-a8eea34c1987",
   "metadata": {},
   "outputs": [],
   "source": []
  }
 ],
 "metadata": {
  "kernelspec": {
   "display_name": "Python 3 (ipykernel)",
   "language": "python",
   "name": "python3"
  },
  "language_info": {
   "codemirror_mode": {
    "name": "ipython",
    "version": 3
   },
   "file_extension": ".py",
   "mimetype": "text/x-python",
   "name": "python",
   "nbconvert_exporter": "python",
   "pygments_lexer": "ipython3",
   "version": "3.12.4"
  }
 },
 "nbformat": 4,
 "nbformat_minor": 5
}
